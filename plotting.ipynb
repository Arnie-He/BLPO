{
 "cells": [
  {
   "cell_type": "code",
   "execution_count": null,
   "metadata": {},
   "outputs": [],
   "source": [
    "import wandb\n",
    "import pandas as pd\n",
    "import matplotlib.pyplot as plt\n",
    "\n",
    "# Replace these with your W&B project and group details\n",
    "WANDB_PROJECT = \"Hypergradient-RL\"  # e.g., \"my-reinforcement-learning-project\"\n",
    "WANDB_ENTITY = \"rl-power\"  # e.g., \"my-username\"\n",
    "GROUP_NAME = \"your-group-name\"  # e.g., \"experiment-1\"\n",
    "\n",
    "# Initialize W&B API\n",
    "api = wandb.Api()\n",
    "\n",
    "# Fetch all runs in the project\n",
    "all_runs = api.runs(f\"{WANDB_ENTITY}/{WANDB_PROJECT}\")\n",
    "\n",
    "# Filter runs by group name\n",
    "group_runs = [run for run in all_runs if run.group == GROUP_NAME]\n",
    "\n",
    "# Plot metrics for all runs in the group\n",
    "metrics_to_plot = [\"reward\", \"critic_loss\"]  # Replace with your logged metric names\n",
    "\n",
    "for run in group_runs:\n",
    "    history = run.history()  # Fetch metrics for each run\n",
    "    df = pd.DataFrame(history)\n",
    "    \n",
    "    # Plot each metric in metrics_to_plot\n",
    "    for metric in metrics_to_plot:\n",
    "        if metric in df.columns:\n",
    "            plt.plot(df[\"_step\"], df[metric], label=f\"{run.name} - {metric}\")\n",
    "\n",
    "# Customize and show the plot\n",
    "plt.xlabel(\"Steps\")\n",
    "plt.ylabel(\"Metrics\")\n",
    "plt.title(f\"Metrics for Group: {GROUP_NAME}\")\n",
    "plt.legend()\n",
    "plt.grid(True)\n",
    "plt.show()\n"
   ]
  }
 ],
 "metadata": {
  "kernelspec": {
   "display_name": "jaxgym",
   "language": "python",
   "name": "python3"
  },
  "language_info": {
   "name": "python",
   "version": "3.9.18"
  }
 },
 "nbformat": 4,
 "nbformat_minor": 2
}
